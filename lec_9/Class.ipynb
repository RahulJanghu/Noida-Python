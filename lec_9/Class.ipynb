{
 "cells": [
  {
   "cell_type": "markdown",
   "metadata": {},
   "source": [
    "## Classes and object"
   ]
  },
  {
   "cell_type": "code",
   "execution_count": 34,
   "metadata": {},
   "outputs": [],
   "source": [
    "class PythonClass:\n",
    "    \n",
    "    def student(self, name):\n",
    "        print(\"Hii i am {}\".format(name))"
   ]
  },
  {
   "cell_type": "code",
   "execution_count": 35,
   "metadata": {},
   "outputs": [],
   "source": [
    "p = PythonClass()"
   ]
  },
  {
   "cell_type": "code",
   "execution_count": 37,
   "metadata": {},
   "outputs": [
    {
     "name": "stdout",
     "output_type": "stream",
     "text": [
      "Hii i am Harish\n"
     ]
    }
   ],
   "source": [
    "p.student(\"Harish\")"
   ]
  },
  {
   "cell_type": "code",
   "execution_count": null,
   "metadata": {},
   "outputs": [],
   "source": []
  },
  {
   "cell_type": "code",
   "execution_count": null,
   "metadata": {},
   "outputs": [],
   "source": []
  },
  {
   "cell_type": "code",
   "execution_count": null,
   "metadata": {},
   "outputs": [],
   "source": []
  },
  {
   "cell_type": "code",
   "execution_count": 18,
   "metadata": {},
   "outputs": [],
   "source": [
    "## Instances"
   ]
  },
  {
   "cell_type": "code",
   "execution_count": 42,
   "metadata": {},
   "outputs": [],
   "source": [
    "class Animal:\n",
    "    ## Class variable same for all instances\n",
    "    Residence = \"Jungle\"\n",
    "    \n",
    "    def __init__(self, species):\n",
    "        ## Insatance variable it is diff for diff instances\n",
    "        \n",
    "        self.prajati = species\n",
    "        \n",
    "    def sound(self, sound):\n",
    "        print(\"I am {} and I sound like {}\".format(self.prajati, sound))\n",
    "        print(\"i live in {}\".format(self.Residence))"
   ]
  },
  {
   "cell_type": "code",
   "execution_count": 43,
   "metadata": {},
   "outputs": [],
   "source": [
    "lion = Animal(\"Lion\")"
   ]
  },
  {
   "cell_type": "code",
   "execution_count": 44,
   "metadata": {},
   "outputs": [
    {
     "name": "stdout",
     "output_type": "stream",
     "text": [
      "I am Lion and I sound like Roar\n",
      "i live in Jungle\n"
     ]
    }
   ],
   "source": [
    "lion.sound(\"Roar\")"
   ]
  },
  {
   "cell_type": "code",
   "execution_count": 45,
   "metadata": {},
   "outputs": [],
   "source": [
    "giraffe = Animal(\"Giraffe\")"
   ]
  },
  {
   "cell_type": "code",
   "execution_count": 48,
   "metadata": {},
   "outputs": [
    {
     "name": "stdout",
     "output_type": "stream",
     "text": [
      "I am Giraffe and I sound like HOoooww\n",
      "i live in Jungle\n"
     ]
    }
   ],
   "source": [
    "giraffe.sound(\"HOoooww\")"
   ]
  },
  {
   "cell_type": "code",
   "execution_count": null,
   "metadata": {},
   "outputs": [],
   "source": []
  },
  {
   "cell_type": "code",
   "execution_count": null,
   "metadata": {},
   "outputs": [],
   "source": [
    "## Class and instance variable"
   ]
  },
  {
   "cell_type": "code",
   "execution_count": 53,
   "metadata": {},
   "outputs": [],
   "source": [
    "class Add:\n",
    "    \n",
    "    b = 5\n",
    "    def __init__(self, a):\n",
    "        self.a = a\n",
    "        \n",
    "    def sum(self):\n",
    "        return self.a + self.b"
   ]
  },
  {
   "cell_type": "code",
   "execution_count": 54,
   "metadata": {},
   "outputs": [],
   "source": [
    "a = Add(3)"
   ]
  },
  {
   "cell_type": "code",
   "execution_count": 55,
   "metadata": {},
   "outputs": [
    {
     "data": {
      "text/plain": [
       "8"
      ]
     },
     "execution_count": 55,
     "metadata": {},
     "output_type": "execute_result"
    }
   ],
   "source": [
    "a.sum()"
   ]
  },
  {
   "cell_type": "code",
   "execution_count": null,
   "metadata": {},
   "outputs": [],
   "source": []
  },
  {
   "cell_type": "code",
   "execution_count": null,
   "metadata": {},
   "outputs": [],
   "source": []
  },
  {
   "cell_type": "code",
   "execution_count": 2,
   "metadata": {},
   "outputs": [],
   "source": [
    "## Class variable exploitation using list"
   ]
  },
  {
   "cell_type": "code",
   "execution_count": 97,
   "metadata": {},
   "outputs": [],
   "source": [
    "class Human:\n",
    "    \n",
    "    \n",
    "    def __init__(self, name, legs):\n",
    "        self.name = name\n",
    "        self.legs = legs\n",
    "        self.hands = []\n",
    "        \n",
    "    def accident(self, hand):\n",
    "        print(\"My name is {} and i have {} legs\".format(self.name, self.legs))\n",
    "        self.hands.append(hand)\n",
    "        \n",
    "    def showHands(self):\n",
    "        print(\"Kaliya hath mt dekho kyuki mere pass ab itne hi h\")\n",
    "        print(self.hands)"
   ]
  },
  {
   "cell_type": "code",
   "execution_count": 98,
   "metadata": {},
   "outputs": [],
   "source": [
    "thakur = Human(\"Thakur\", 2)"
   ]
  },
  {
   "cell_type": "code",
   "execution_count": 99,
   "metadata": {},
   "outputs": [
    {
     "name": "stdout",
     "output_type": "stream",
     "text": [
      "My name is Thakur and i have 2 legs\n"
     ]
    }
   ],
   "source": [
    "thakur.accident(0)"
   ]
  },
  {
   "cell_type": "code",
   "execution_count": 90,
   "metadata": {},
   "outputs": [
    {
     "name": "stdout",
     "output_type": "stream",
     "text": [
      "Kaliya hath mt dekho kyuki mere pass ab itne hi h\n",
      "[0]\n"
     ]
    }
   ],
   "source": [
    "thakur.showHands()"
   ]
  },
  {
   "cell_type": "code",
   "execution_count": 91,
   "metadata": {},
   "outputs": [],
   "source": [
    "h1 = Human(\"Forearma\", 2)"
   ]
  },
  {
   "cell_type": "code",
   "execution_count": 92,
   "metadata": {},
   "outputs": [
    {
     "name": "stdout",
     "output_type": "stream",
     "text": [
      "My name is Forearma and i have 2 legs\n"
     ]
    }
   ],
   "source": [
    "h1.accident(3)"
   ]
  },
  {
   "cell_type": "code",
   "execution_count": 93,
   "metadata": {},
   "outputs": [
    {
     "name": "stdout",
     "output_type": "stream",
     "text": [
      "Kaliya hath mt dekho kyuki mere pass ab itne hi h\n",
      "[3]\n"
     ]
    }
   ],
   "source": [
    "h1.showHands()"
   ]
  },
  {
   "cell_type": "code",
   "execution_count": 94,
   "metadata": {},
   "outputs": [
    {
     "name": "stdout",
     "output_type": "stream",
     "text": [
      "Kaliya hath mt dekho kyuki mere pass ab itne hi h\n",
      "[0]\n"
     ]
    }
   ],
   "source": [
    "thakur.showHands()"
   ]
  },
  {
   "cell_type": "code",
   "execution_count": null,
   "metadata": {},
   "outputs": [],
   "source": []
  },
  {
   "cell_type": "code",
   "execution_count": 116,
   "metadata": {},
   "outputs": [],
   "source": [
    "class Human:\n",
    "    \n",
    "    def __init__(self, name):\n",
    "        self.name = name\n",
    "        self.secret = []\n",
    "        print(\"Hey i am {}\".format(self.name) )\n",
    "        \n",
    "    def addSecretActivity(self, activity):\n",
    "        self.secret.append(activity)\n",
    "        \n",
    "    def showActivity(self):\n",
    "        print(self.secret)"
   ]
  },
  {
   "cell_type": "code",
   "execution_count": 117,
   "metadata": {},
   "outputs": [
    {
     "name": "stdout",
     "output_type": "stream",
     "text": [
      "Hey i am Harish\n",
      "Hey i am Piyush\n"
     ]
    }
   ],
   "source": [
    "Harish = Human(\"Harish\")\n",
    "Piyush = Human(\"Piyush\")"
   ]
  },
  {
   "cell_type": "code",
   "execution_count": 118,
   "metadata": {},
   "outputs": [],
   "source": [
    "Harish.addSecretActivity(\"Ldki se baat krna acch lgta h\")\n",
    "Piyush.addSecretActivity(\"Game\")"
   ]
  },
  {
   "cell_type": "code",
   "execution_count": 119,
   "metadata": {},
   "outputs": [
    {
     "name": "stdout",
     "output_type": "stream",
     "text": [
      "['Ldki se baat krna acch lgta h']\n"
     ]
    }
   ],
   "source": [
    "Harish.showActivity()"
   ]
  },
  {
   "cell_type": "code",
   "execution_count": 120,
   "metadata": {},
   "outputs": [
    {
     "name": "stdout",
     "output_type": "stream",
     "text": [
      "['Game']\n"
     ]
    }
   ],
   "source": [
    "Piyush.showActivity()"
   ]
  },
  {
   "cell_type": "code",
   "execution_count": null,
   "metadata": {},
   "outputs": [],
   "source": []
  },
  {
   "cell_type": "code",
   "execution_count": null,
   "metadata": {},
   "outputs": [],
   "source": []
  },
  {
   "cell_type": "code",
   "execution_count": null,
   "metadata": {},
   "outputs": [],
   "source": []
  },
  {
   "cell_type": "markdown",
   "metadata": {},
   "source": [
    "## Access Modifiers"
   ]
  },
  {
   "cell_type": "code",
   "execution_count": 147,
   "metadata": {},
   "outputs": [],
   "source": [
    "class Car:\n",
    "    \n",
    "    def __init__(self, company, model, password):\n",
    "        self.company = company\n",
    "        self.model = model\n",
    "        self.password = password\n",
    "        \n",
    "    def intro(self):\n",
    "        print(\"This is {} of {} company\".format(self.model, self.company))\n",
    "        \n",
    "    def __start(self):\n",
    "        print(\"I sound like gruuuuhh gruuuh gruuuh\")\n",
    "    \n",
    "    def access(self, pswrd):\n",
    "        \n",
    "        if self.password == pswrd:\n",
    "            self.__start()\n",
    "            \n",
    "        else:\n",
    "            print(\"nikl, pehli fursat m nikl\")\n",
    "    "
   ]
  },
  {
   "cell_type": "code",
   "execution_count": 148,
   "metadata": {},
   "outputs": [],
   "source": [
    "lambo = Car(\"Lamborghini\", \"Aventador\", \"momos\")"
   ]
  },
  {
   "cell_type": "code",
   "execution_count": 150,
   "metadata": {},
   "outputs": [
    {
     "name": "stdout",
     "output_type": "stream",
     "text": [
      "nikl, pehli fursat m nikl\n"
     ]
    }
   ],
   "source": [
    "lambo.access(\"mhghj\")"
   ]
  },
  {
   "cell_type": "code",
   "execution_count": 140,
   "metadata": {},
   "outputs": [
    {
     "name": "stdout",
     "output_type": "stream",
     "text": [
      "This is Aventador of Lamborghini company\n"
     ]
    }
   ],
   "source": [
    "lambo.intro()"
   ]
  },
  {
   "cell_type": "code",
   "execution_count": 151,
   "metadata": {},
   "outputs": [],
   "source": [
    "honda = Car(\"Honda\", \"Accord\", \"elite\")"
   ]
  },
  {
   "cell_type": "code",
   "execution_count": 152,
   "metadata": {},
   "outputs": [
    {
     "name": "stdout",
     "output_type": "stream",
     "text": [
      "This is Accord of Honda company\n"
     ]
    }
   ],
   "source": [
    "honda.intro()"
   ]
  },
  {
   "cell_type": "code",
   "execution_count": 153,
   "metadata": {},
   "outputs": [
    {
     "name": "stdout",
     "output_type": "stream",
     "text": [
      "I sound like gruuuuhh gruuuh gruuuh\n"
     ]
    }
   ],
   "source": [
    "honda.access(\"elite\")"
   ]
  },
  {
   "cell_type": "code",
   "execution_count": null,
   "metadata": {},
   "outputs": [],
   "source": []
  },
  {
   "cell_type": "code",
   "execution_count": null,
   "metadata": {},
   "outputs": [],
   "source": []
  },
  {
   "cell_type": "code",
   "execution_count": null,
   "metadata": {},
   "outputs": [],
   "source": []
  },
  {
   "cell_type": "markdown",
   "metadata": {},
   "source": [
    "## Inheritance"
   ]
  },
  {
   "cell_type": "code",
   "execution_count": null,
   "metadata": {},
   "outputs": [],
   "source": []
  },
  {
   "cell_type": "code",
   "execution_count": 18,
   "metadata": {},
   "outputs": [],
   "source": [
    "class Parents:\n",
    "    \n",
    "    def __init__(self, paisa, blessings):\n",
    "        self.paisa = paisa\n",
    "        self.blessings = blessings\n",
    "        \n",
    "    def papers(self):\n",
    "        print(\"Dede {} and {} blessings\".format(self.paisa, self.blessings))\n",
    "        \n",
    "class Children(Parents):\n",
    "    \n",
    "    def __init__(self, paisa, blessings, name, age):\n",
    "        Parents.__init__(self, paisa, blessings)\n",
    "        self.name = name\n",
    "        self.age = age\n",
    "        \n",
    "    def intro(self):\n",
    "        print(\"I am {} of {} and muje chaiye paisa\".format(self.name, self.age))\n",
    "        Parents.papers(self)\n",
    "    "
   ]
  },
  {
   "cell_type": "code",
   "execution_count": 19,
   "metadata": {},
   "outputs": [],
   "source": [
    "Vijay_Malya = Children('10k cr', \"ni chaiye\", \"Vijay Malya\", '43')"
   ]
  },
  {
   "cell_type": "code",
   "execution_count": 20,
   "metadata": {},
   "outputs": [
    {
     "name": "stdout",
     "output_type": "stream",
     "text": [
      "I am Vijay Malya of 43 and muje chaiye paisa\n",
      "Dede 10k cr and ni chaiye blessings\n"
     ]
    }
   ],
   "source": [
    "Vijay_Malya.intro()"
   ]
  },
  {
   "cell_type": "code",
   "execution_count": null,
   "metadata": {},
   "outputs": [],
   "source": []
  },
  {
   "cell_type": "code",
   "execution_count": null,
   "metadata": {},
   "outputs": [],
   "source": []
  }
 ],
 "metadata": {
  "kernelspec": {
   "display_name": "Python 3",
   "language": "python",
   "name": "python3"
  },
  "language_info": {
   "codemirror_mode": {
    "name": "ipython",
    "version": 3
   },
   "file_extension": ".py",
   "mimetype": "text/x-python",
   "name": "python",
   "nbconvert_exporter": "python",
   "pygments_lexer": "ipython3",
   "version": "3.7.1"
  }
 },
 "nbformat": 4,
 "nbformat_minor": 2
}
