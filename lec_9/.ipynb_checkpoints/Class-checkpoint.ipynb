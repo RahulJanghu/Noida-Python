{
 "cells": [
  {
   "cell_type": "markdown",
   "metadata": {},
   "source": [
    "## Classes and object"
   ]
  },
  {
   "cell_type": "code",
   "execution_count": 2,
   "metadata": {},
   "outputs": [],
   "source": [
    "class In:\n",
    "    \n",
    "    def __init__(self):\n",
    "        print(\"Kaise ho dosto\")"
   ]
  },
  {
   "cell_type": "code",
   "execution_count": 3,
   "metadata": {},
   "outputs": [
    {
     "name": "stdout",
     "output_type": "stream",
     "text": [
      "Kaise ho dosto\n"
     ]
    }
   ],
   "source": [
    "a = In()"
   ]
  },
  {
   "cell_type": "code",
   "execution_count": null,
   "metadata": {},
   "outputs": [],
   "source": []
  },
  {
   "cell_type": "code",
   "execution_count": 89,
   "metadata": {},
   "outputs": [],
   "source": [
    "class Human:\n",
    "    \n",
    "    # This is class variable that is same for a class\n",
    "    Nationality = \"Indian\"\n",
    "    \n",
    "\n",
    "    def __init__(self, college, company):\n",
    "        # This is instance variable that is different for every instance of a class\n",
    "        \n",
    "        self.coll = college\n",
    "    \n",
    "    def sayhi(self, name):\n",
    "        print(\"Hello bhai \" + str(name))\n",
    "        print(self.Nationality)\n",
    "        \n",
    "    def introduce(self):\n",
    "        print(self.coll)\n",
    "        "
   ]
  },
  {
   "cell_type": "code",
   "execution_count": 90,
   "metadata": {},
   "outputs": [],
   "source": [
    "# Here Rahul is instance of class Human\n",
    "Rahul = Human(\"IIT Kanpur\", \"CB\")\n",
    "Pappu = Human(\"RG\", \"Cong\")"
   ]
  },
  {
   "cell_type": "code",
   "execution_count": 91,
   "metadata": {},
   "outputs": [
    {
     "name": "stdout",
     "output_type": "stream",
     "text": [
      "Hello bhai Rahul\n",
      "Indian\n",
      "RG\n"
     ]
    }
   ],
   "source": [
    "Rahul.sayhi(\"Rahul\")\n",
    "Pappu.introduce()"
   ]
  },
  {
   "cell_type": "code",
   "execution_count": null,
   "metadata": {},
   "outputs": [],
   "source": []
  },
  {
   "cell_type": "code",
   "execution_count": 9,
   "metadata": {},
   "outputs": [],
   "source": [
    "class Human:\n",
    "    \n",
    "    features = []\n",
    "    \n",
    "    def __init__(self, name, college):\n",
    "        self.name = name\n",
    "        self.coll = college\n",
    "        \n",
    "    def addbehav(self, feat):\n",
    "        self.features.append(feat)\n",
    "        \n",
    "    def showbehav(self):\n",
    "        print(self.features)"
   ]
  },
  {
   "cell_type": "code",
   "execution_count": 10,
   "metadata": {},
   "outputs": [],
   "source": [
    "r1 = Human(\"Ra\", \"c\")\n",
    "r2 = Human(\"R2\", \"co\")"
   ]
  },
  {
   "cell_type": "code",
   "execution_count": 12,
   "metadata": {},
   "outputs": [],
   "source": [
    "r1.addbehav(\"2 hands\")\n",
    "r1.addbehav(\"2 legs\")\n",
    "r2.addbehav(\"5 legs\")\n"
   ]
  },
  {
   "cell_type": "code",
   "execution_count": 13,
   "metadata": {},
   "outputs": [
    {
     "name": "stdout",
     "output_type": "stream",
     "text": [
      "['2 hands', '2 legs', '5 legs']\n",
      "['2 hands', '2 legs', '5 legs']\n"
     ]
    }
   ],
   "source": [
    "r1.showbehav()\n",
    "r2.showbehav()"
   ]
  },
  {
   "cell_type": "code",
   "execution_count": null,
   "metadata": {},
   "outputs": [],
   "source": []
  },
  {
   "cell_type": "code",
   "execution_count": 14,
   "metadata": {},
   "outputs": [],
   "source": [
    "class Human:\n",
    "    \n",
    "    def __init__(self, name, college):\n",
    "        self.features = []\n",
    "        self.name = name\n",
    "        self.coll = college\n",
    "        \n",
    "    def addbehav(self, feat):\n",
    "        self.features.append(feat)\n",
    "        \n",
    "    def showbehav(self):\n",
    "        print(self.features)"
   ]
  },
  {
   "cell_type": "code",
   "execution_count": 15,
   "metadata": {},
   "outputs": [],
   "source": [
    "r1 = Human(\"Ra\", \"c\")\n",
    "r2 = Human(\"R2\", \"co\")"
   ]
  },
  {
   "cell_type": "code",
   "execution_count": 16,
   "metadata": {},
   "outputs": [],
   "source": [
    "r1.addbehav(\"2 hands\")\n",
    "r1.addbehav(\"2 legs\")\n",
    "r2.addbehav(\"5 legs\")\n"
   ]
  },
  {
   "cell_type": "code",
   "execution_count": 17,
   "metadata": {},
   "outputs": [
    {
     "name": "stdout",
     "output_type": "stream",
     "text": [
      "['2 hands', '2 legs']\n",
      "['5 legs']\n"
     ]
    }
   ],
   "source": [
    "r1.showbehav()\n",
    "r2.showbehav()"
   ]
  },
  {
   "cell_type": "code",
   "execution_count": null,
   "metadata": {},
   "outputs": [],
   "source": []
  },
  {
   "cell_type": "markdown",
   "metadata": {},
   "source": [
    "## Access Modifiers"
   ]
  },
  {
   "cell_type": "code",
   "execution_count": 21,
   "metadata": {},
   "outputs": [],
   "source": [
    "class Car:\n",
    "    \n",
    "    def __init__(self, company, color, password):\n",
    "        self.password = password\n",
    "        self.company = company\n",
    "        self.color = color\n",
    "    \n",
    "    def __start(self):\n",
    "        print(\"droom droom droommmmm\")\n",
    "        \n",
    "    def stop(self):\n",
    "        print(\"Gruuuhhhhh\")\n",
    "        \n",
    "    def carmodel(self, model, paswrd):\n",
    "        print(\"model of {} is \".format(self.company) + str(model))\n",
    "        \n",
    "        if self.password == paswrd:\n",
    "            self.__start()\n",
    "        else:\n",
    "            print(\"Abbe chal be. Bada aaya\")"
   ]
  },
  {
   "cell_type": "code",
   "execution_count": 22,
   "metadata": {},
   "outputs": [],
   "source": [
    "c1 = Car(\"Lambo\", \"Red\", \"Mast\")\n",
    "c2 = Car(\"Honda\", \"White\", \"bdia\")"
   ]
  },
  {
   "cell_type": "code",
   "execution_count": 23,
   "metadata": {},
   "outputs": [
    {
     "name": "stdout",
     "output_type": "stream",
     "text": [
      "model of Lambo is 2019\n",
      "Abbe chal be. Bada aaya\n"
     ]
    }
   ],
   "source": [
    "c1.carmodel(2019, \"as\")"
   ]
  },
  {
   "cell_type": "code",
   "execution_count": 24,
   "metadata": {},
   "outputs": [
    {
     "name": "stdout",
     "output_type": "stream",
     "text": [
      "Gruuuhhhhh\n"
     ]
    }
   ],
   "source": [
    "c1.stop()"
   ]
  },
  {
   "cell_type": "code",
   "execution_count": 41,
   "metadata": {},
   "outputs": [
    {
     "name": "stdout",
     "output_type": "stream",
     "text": [
      "model of Honda is 2019\n"
     ]
    }
   ],
   "source": [
    "c2.carmodel(2019)"
   ]
  },
  {
   "cell_type": "code",
   "execution_count": null,
   "metadata": {},
   "outputs": [],
   "source": []
  },
  {
   "cell_type": "markdown",
   "metadata": {},
   "source": [
    "## Inheritance"
   ]
  },
  {
   "cell_type": "code",
   "execution_count": 31,
   "metadata": {},
   "outputs": [],
   "source": [
    "class Human:\n",
    "    \n",
    "    def __init__(self, name, age):\n",
    "        self.name = name\n",
    "        self.age = age\n",
    "        \n",
    "    def introduce(self):\n",
    "        print(\"My name is {} and age is {}\".format(self.name, self.age))\n",
    "        \n",
    "        \n",
    "class Boy(Human):\n",
    "    \n",
    "    def __init__(self, name, age, gender):\n",
    "        Human.__init__(self, name, age)\n",
    "        self.gender = gender\n",
    "        \n",
    "    def intro(self):\n",
    "        Human.introduce(self)\n",
    "        print(\"And gender is \" + str(self.gender))\n",
    "        "
   ]
  },
  {
   "cell_type": "code",
   "execution_count": 32,
   "metadata": {},
   "outputs": [],
   "source": [
    "b1 = Boy(\"Rahul\", 26, \"M\")"
   ]
  },
  {
   "cell_type": "code",
   "execution_count": 33,
   "metadata": {},
   "outputs": [
    {
     "name": "stdout",
     "output_type": "stream",
     "text": [
      "My name is Rahul and age is 26\n",
      "And gender is M\n"
     ]
    }
   ],
   "source": [
    "b1.intro()"
   ]
  },
  {
   "cell_type": "code",
   "execution_count": 37,
   "metadata": {},
   "outputs": [],
   "source": [
    "Human.hands = 2"
   ]
  },
  {
   "cell_type": "code",
   "execution_count": 39,
   "metadata": {},
   "outputs": [],
   "source": [
    "h = Human(\"ra\", 26)"
   ]
  },
  {
   "cell_type": "code",
   "execution_count": 40,
   "metadata": {},
   "outputs": [
    {
     "data": {
      "text/plain": [
       "2"
      ]
     },
     "execution_count": 40,
     "metadata": {},
     "output_type": "execute_result"
    }
   ],
   "source": [
    "h.hands"
   ]
  },
  {
   "cell_type": "code",
   "execution_count": null,
   "metadata": {},
   "outputs": [],
   "source": []
  },
  {
   "cell_type": "code",
   "execution_count": null,
   "metadata": {},
   "outputs": [],
   "source": []
  },
  {
   "cell_type": "code",
   "execution_count": null,
   "metadata": {},
   "outputs": [],
   "source": []
  },
  {
   "cell_type": "code",
   "execution_count": null,
   "metadata": {},
   "outputs": [],
   "source": []
  },
  {
   "cell_type": "code",
   "execution_count": null,
   "metadata": {},
   "outputs": [],
   "source": []
  },
  {
   "cell_type": "code",
   "execution_count": null,
   "metadata": {},
   "outputs": [],
   "source": []
  },
  {
   "cell_type": "code",
   "execution_count": null,
   "metadata": {},
   "outputs": [],
   "source": []
  },
  {
   "cell_type": "code",
   "execution_count": 8,
   "metadata": {},
   "outputs": [
    {
     "name": "stdout",
     "output_type": "stream",
     "text": [
      "Black\n",
      "Horn ok please\n",
      "grey\n",
      "Horn ok please\n",
      "red\n",
      "white wolf\n"
     ]
    }
   ],
   "source": [
    "class car:\n",
    "    def __init__(self, colour = \"frosty white\", slogan = \"Horn ok please\"):\n",
    "        self.doors = 4\n",
    "        self.seats = 4\n",
    "        self.colour = colour\n",
    "        self.slogan = slogan\n",
    "    def start(self):\n",
    "        print(\"i am car, i am starting\")\n",
    "\n",
    "    def acc(self):\n",
    "        print(\"dhoom dhoom\")\n",
    "\n",
    "    def stop(self):\n",
    "        print(\"i am car, i am stoping\")\n",
    "\n",
    "first = car(\"Black\")\n",
    "print(first.colour)\n",
    "print(first.slogan)\n",
    "\n",
    "second = car(\"grey\")\n",
    "print(second.colour)\n",
    "print(second.slogan)\n",
    "\n",
    "third = car(\"red\"   , \"white wolf\")\n",
    "print(third.colour)\n",
    "print(third.slogan)\n",
    "\n"
   ]
  },
  {
   "cell_type": "code",
   "execution_count": null,
   "metadata": {},
   "outputs": [],
   "source": []
  }
 ],
 "metadata": {
  "kernelspec": {
   "display_name": "Python 3",
   "language": "python",
   "name": "python3"
  },
  "language_info": {
   "codemirror_mode": {
    "name": "ipython",
    "version": 3
   },
   "file_extension": ".py",
   "mimetype": "text/x-python",
   "name": "python",
   "nbconvert_exporter": "python",
   "pygments_lexer": "ipython3",
   "version": "3.7.1"
  }
 },
 "nbformat": 4,
 "nbformat_minor": 2
}
