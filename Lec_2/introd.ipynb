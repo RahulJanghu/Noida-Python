{
 "cells": [
  {
   "cell_type": "markdown",
   "metadata": {},
   "source": [
    "## 1. How Python runs?\n",
    "When the Python software is installed on your machine, minimally, it has:\n",
    "\n",
    "- an interpreter\n",
    "- a support library.\n",
    "    \n",
    "![title](/images/interpreter.png)"
   ]
  },
  {
   "cell_type": "markdown",
   "metadata": {},
   "source": [
    "## Interpreter:\n",
    "Interpreter is nothing but a software which can run your Python scripts.\n",
    "\n",
    "Interestingly, it can be implemented in any programming language!\n",
    "\n",
    "- **CPython** is the default interpreter for Python which is written in **C language**.\n",
    "- **Jython** is another popular implementation of python interpreter written using **Java**.\n",
    "\n",
    "**Programmer's view**\n",
    "![Programmer's view](/images/intro.png)\n",
    "**Python's view**\n",
    "![Python inter](/images/pythonview.png)"
   ]
  },
  {
   "cell_type": "code",
   "execution_count": 1,
   "metadata": {},
   "outputs": [],
   "source": [
    "## Python is dynamically typed language.\n",
    "## It means that it doesnt check the type of an object prior to its running.\n",
    "## While c++ and java are statically typed languages, where compiler does the type checking.\n",
    "## Python uses NONE for no value or null value as described in other languages"
   ]
  },
  {
   "cell_type": "code",
   "execution_count": null,
   "metadata": {},
   "outputs": [],
   "source": []
  }
 ],
 "metadata": {
  "kernelspec": {
   "display_name": "Python 3",
   "language": "python",
   "name": "python3"
  },
  "language_info": {
   "codemirror_mode": {
    "name": "ipython",
    "version": 3
   },
   "file_extension": ".py",
   "mimetype": "text/x-python",
   "name": "python",
   "nbconvert_exporter": "python",
   "pygments_lexer": "ipython3",
   "version": "3.7.1"
  }
 },
 "nbformat": 4,
 "nbformat_minor": 2
}
